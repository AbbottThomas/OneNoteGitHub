{
 "cells": [
  {
   "cell_type": "markdown",
   "metadata": {},
   "source": [
    "题目: 凑最少硬币\n",
    "1,3,5\n",
    "目标 11\n",
    "\n"
   ]
  },
  {
   "cell_type": "code",
   "execution_count": 40,
   "metadata": {},
   "outputs": [
    {
     "name": "stdout",
     "output_type": "stream",
     "text": [
      "个数最少的组合是: \n",
      "1\t3\t5\t5\t5\t"
     ]
    },
    {
     "name": "stderr",
     "output_type": "stream",
     "text": [
      "c:\\Users\\TQ\\Anaconda3\\envs\\TF2.1\\lib\\site-packages\\ipykernel_launcher.py:5: DeprecationWarning: `np.int` is a deprecated alias for the builtin `int`. To silence this warning, use `int` by itself. Doing this will not modify any behavior and is safe. When replacing `np.int`, you may wish to use e.g. `np.int64` or `np.int32` to specify the precision. If you wish to review your current use, check the release note link for additional information.\n",
      "Deprecated in NumPy 1.20; for more details and guidance: https://numpy.org/devdocs/release/1.20.0-notes.html#deprecations\n",
      "  \"\"\"\n",
      "c:\\Users\\TQ\\Anaconda3\\envs\\TF2.1\\lib\\site-packages\\ipykernel_launcher.py:13: DeprecationWarning: `np.int` is a deprecated alias for the builtin `int`. To silence this warning, use `int` by itself. Doing this will not modify any behavior and is safe. When replacing `np.int`, you may wish to use e.g. `np.int64` or `np.int32` to specify the precision. If you wish to review your current use, check the release note link for additional information.\n",
      "Deprecated in NumPy 1.20; for more details and guidance: https://numpy.org/devdocs/release/1.20.0-notes.html#deprecations\n",
      "  del sys.path[0]\n",
      "c:\\Users\\TQ\\Anaconda3\\envs\\TF2.1\\lib\\site-packages\\ipykernel_launcher.py:22: DeprecationWarning: `np.int` is a deprecated alias for the builtin `int`. To silence this warning, use `int` by itself. Doing this will not modify any behavior and is safe. When replacing `np.int`, you may wish to use e.g. `np.int64` or `np.int32` to specify the precision. If you wish to review your current use, check the release note link for additional information.\n",
      "Deprecated in NumPy 1.20; for more details and guidance: https://numpy.org/devdocs/release/1.20.0-notes.html#deprecations\n"
     ]
    }
   ],
   "source": [
    "import numpy as np\n",
    "MAX_YUAN = 20\n",
    "\n",
    "# dp  凑齐n元,最少需要多少货币\n",
    "dp = np.zeros((MAX_YUAN,),dtype=np.int)\n",
    "dp[1] = 1\n",
    "dp[2] = 2\n",
    "dp[3] = 1\n",
    "dp[4] = 2\n",
    "dp[5] = 1\n",
    "\n",
    "# path 凑齐n元,选择最少货币时,第一次选择的货币\n",
    "path = np.zeros((MAX_YUAN,),dtype=np.int)\n",
    "path[0] = 0\n",
    "path[1] = 1\n",
    "path[2] = 1\n",
    "path[3] = 3\n",
    "path[4] = 3\n",
    "path[5] = 5\n",
    "\n",
    "for i in range(6,MAX_YUAN):\n",
    "    candidate = np.zeros((3,),dtype=np.int)\n",
    "    candidate[0] = 1 + dp[i - 1]\n",
    "    candidate[1] = 1 + dp[i - 3]\n",
    "    candidate[2] = 1 + dp[i - 5]\n",
    "\n",
    "    index = candidate.argmin()\n",
    "    if index == 0:\n",
    "        path[i] = 1\n",
    "    elif index == 1:\n",
    "        path[i] = 3\n",
    "    else:\n",
    "        path[i] = 5\n",
    "    # dp[i] = dp[i - 1] + path[i]\n",
    "    dp[i] = candidate.min()\n",
    "# print(dp)\n",
    "# print(path)\n",
    "i = 19\n",
    "print(\"个数最少的组合是: \")\n",
    "temp = path.tolist()\n",
    "while i!= 0:\n",
    "    print(\"%d\\t\"%(path[i]),end=\"\")   # %模式   end去掉换行\n",
    "    # print(\"%d\\t\" % (temp[i]),end=\"\")   \n",
    "    # print(temp[i],end=\"\")\n",
    "    i = i - path[i]\n",
    "# type(temp)\n",
    "# print(temp)"
   ]
  },
  {
   "cell_type": "code",
   "execution_count": 28,
   "metadata": {},
   "outputs": [
    {
     "name": "stdout",
     "output_type": "stream",
     "text": [
      "a[1] = 2\n"
     ]
    }
   ],
   "source": [
    "a=[1,2,3]\n",
    "type(a)\n",
    "print(\"a[%d] = %d\" % (1,a[1]))\n",
    "# print(\"%f\" % (1/3))     # 后面不限制"
   ]
  },
  {
   "cell_type": "code",
   "execution_count": 35,
   "metadata": {},
   "outputs": [
    {
     "data": {
      "text/plain": [
       "list"
      ]
     },
     "execution_count": 35,
     "metadata": {},
     "output_type": "execute_result"
    }
   ],
   "source": [
    "a = np.zeros((3,))\n",
    "b = a.tolist()\n",
    "type(b)"
   ]
  }
 ],
 "metadata": {
  "kernelspec": {
   "display_name": "Python 3.7.13 ('TF2.1')",
   "language": "python",
   "name": "python3"
  },
  "language_info": {
   "codemirror_mode": {
    "name": "ipython",
    "version": 3
   },
   "file_extension": ".py",
   "mimetype": "text/x-python",
   "name": "python",
   "nbconvert_exporter": "python",
   "pygments_lexer": "ipython3",
   "version": "3.7.13"
  },
  "orig_nbformat": 4,
  "vscode": {
   "interpreter": {
    "hash": "3e20bf40baf3a2d3df72c166a35ce972230fd40553e22942463dd3ebfbfd0162"
   }
  }
 },
 "nbformat": 4,
 "nbformat_minor": 2
}
