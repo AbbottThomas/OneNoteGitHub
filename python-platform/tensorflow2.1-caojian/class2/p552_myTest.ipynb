{
 "cells": [
  {
   "cell_type": "code",
   "execution_count": 13,
   "metadata": {},
   "outputs": [
    {
     "name": "stdout",
     "output_type": "stream",
     "text": [
      "(300, 2)\n"
     ]
    },
    {
     "data": {
      "text/plain": [
       "(600,)"
      ]
     },
     "execution_count": 13,
     "metadata": {},
     "output_type": "execute_result"
    }
   ],
   "source": [
    "import pandas as pd\n",
    "import numpy as np\n",
    "df = pd.read_csv('dot.csv')\n",
    "x_data = np.array(df[['x1','x2']])\n",
    "y_data = np.array(df['y_c']) \n",
    "# x_train = x_data.reshape(1,-1)\n",
    "print(x_data.shape)\n",
    "# x_train1 = x_data.reshape(-1,1)\n",
    "# x_train2 = x_data.reshape(1,-1)\n",
    "# print(\"x_train1: \",x_train1.shape)\n",
    "# print(\"x_train2: \",x_train2.shape)\n",
    "xx = x_data.ravel()\n",
    "xx.shape"
   ]
  }
 ],
 "metadata": {
  "kernelspec": {
   "display_name": "Python 3.7.13 ('TF2.1')",
   "language": "python",
   "name": "python3"
  },
  "language_info": {
   "codemirror_mode": {
    "name": "ipython",
    "version": 3
   },
   "file_extension": ".py",
   "mimetype": "text/x-python",
   "name": "python",
   "nbconvert_exporter": "python",
   "pygments_lexer": "ipython3",
   "version": "3.7.13"
  },
  "orig_nbformat": 4,
  "vscode": {
   "interpreter": {
    "hash": "3e20bf40baf3a2d3df72c166a35ce972230fd40553e22942463dd3ebfbfd0162"
   }
  }
 },
 "nbformat": 4,
 "nbformat_minor": 2
}
